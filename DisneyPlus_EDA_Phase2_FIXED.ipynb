{
 "cells": [
  {
   "cell_type": "code",
   "execution_count": null,
   "id": "dd2b2010",
   "metadata": {},
   "outputs": [],
   "source": [
    "\n",
    "import pandas as pd\n",
    "import matplotlib.pyplot as plt\n",
    "import seaborn as sns\n",
    "import warnings\n",
    "warnings.filterwarnings('ignore')\n",
    "\n",
    "# Load data with 'duration' column\n",
    "df = pd.read_csv(r'C:\\Users\\camro\\OneDrive\\Github Project1\\data\\disney_plus_titles.csv')\n",
    "\n",
    "# Handle missing and date values\n",
    "df['date_added'] = pd.to_datetime(df['date_added'], errors='coerce')\n",
    "df['director'].fillna('Unknown', inplace=True)\n",
    "df['cast'].fillna('Unknown', inplace=True)\n",
    "df['country'].fillna('Unknown', inplace=True)\n",
    "df['rating'].fillna('Not Rated', inplace=True)\n",
    "\n",
    "# Create new columns for duration and seasons\n",
    "df['duration_minutes'] = df['duration'].apply(lambda x: int(x.split()[0]) if 'min' in str(x) else None)\n",
    "df['seasons'] = df['duration'].apply(lambda x: int(x.split()[0]) if 'Season' in str(x) else None)\n",
    "\n",
    "# Drop original 'duration' column\n",
    "df.drop(columns=['duration'], inplace=True)\n",
    "\n",
    "# Quick look at the data\n",
    "df.head()\n"
   ]
  },
  {
   "cell_type": "code",
   "execution_count": null,
   "id": "0909cb16",
   "metadata": {},
   "outputs": [],
   "source": [
    "\n",
    "df.describe(include='all')\n"
   ]
  },
  {
   "cell_type": "code",
   "execution_count": null,
   "id": "212a6136",
   "metadata": {},
   "outputs": [],
   "source": [
    "\n",
    "sns.countplot(data=df, x='type', palette='Set2')\n",
    "plt.title('Distribution of Content Type')\n",
    "plt.xlabel('Type')\n",
    "plt.ylabel('Count')\n",
    "plt.show()\n"
   ]
  },
  {
   "cell_type": "code",
   "execution_count": null,
   "id": "e5e2e05e",
   "metadata": {},
   "outputs": [],
   "source": [
    "\n",
    "rating_counts = df['rating'].value_counts().head(10)\n",
    "sns.barplot(y=rating_counts.index, x=rating_counts.values, palette='rocket')\n",
    "plt.title('Top 10 Content Ratings')\n",
    "plt.xlabel('Count')\n",
    "plt.ylabel('Rating')\n",
    "plt.show()\n"
   ]
  },
  {
   "cell_type": "code",
   "execution_count": null,
   "id": "45d8d9f5",
   "metadata": {},
   "outputs": [],
   "source": [
    "\n",
    "top_countries = df['country'].value_counts().head(10)\n",
    "sns.barplot(y=top_countries.index, x=top_countries.values, palette='viridis')\n",
    "plt.title('Top 10 Countries by Content Count')\n",
    "plt.xlabel('Number of Titles')\n",
    "plt.ylabel('Country')\n",
    "plt.show()\n"
   ]
  },
  {
   "cell_type": "code",
   "execution_count": null,
   "id": "c672bf06",
   "metadata": {},
   "outputs": [],
   "source": [
    "\n",
    "df['year_added'] = df['date_added'].dt.year\n",
    "df['year_added'].value_counts().sort_index().plot(kind='line', marker='o', color='teal')\n",
    "plt.title('Content Added Over Years')\n",
    "plt.xlabel('Year')\n",
    "plt.ylabel('Number of Additions')\n",
    "plt.grid(True)\n",
    "plt.show()\n"
   ]
  }
 ],
 "metadata": {},
 "nbformat": 4,
 "nbformat_minor": 5
}
